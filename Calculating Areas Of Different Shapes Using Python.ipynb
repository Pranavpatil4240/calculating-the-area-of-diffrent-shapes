{
 "cells": [
  {
   "cell_type": "code",
   "execution_count": 1,
   "id": "c2918fb5-b91f-4c91-85d8-498b015dfa01",
   "metadata": {},
   "outputs": [
    {
     "name": "stdin",
     "output_type": "stream",
     "text": [
      "Enter the radius of the circle:  5\n"
     ]
    },
    {
     "name": "stdout",
     "output_type": "stream",
     "text": [
      "The area of the circle with radius 5.0 is: 78.5\n"
     ]
    }
   ],
   "source": [
    "#WAP of area of circle using python\n",
    "pi = 3.14\n",
    "radius = float(input(\"Enter the radius of the circle: \"))\n",
    "area = pi*radius*radius\n",
    "print(\"The area of the circle with radius\", radius, \"is:\", area)\n"
   ]
  },
  {
   "cell_type": "code",
   "execution_count": 3,
   "id": "78e894a5-e06c-4e96-938e-2d9a5f03432b",
   "metadata": {},
   "outputs": [
    {
     "name": "stdin",
     "output_type": "stream",
     "text": [
      "Enter the length of the rectangle: 10\n",
      "enter the breadh of the rectangle: 5\n"
     ]
    },
    {
     "name": "stdout",
     "output_type": "stream",
     "text": [
      "area of rectanagle is: 50.0\n"
     ]
    }
   ],
   "source": [
    "#WAP of area of rectangle using python\n",
    "a=float(input(\"Enter the length of the rectangle:\"))\n",
    "b=float(input(\"enter the breadh of the rectangle:\"))\n",
    "result=a*b\n",
    "print(\"area of rectanagle is:\",result)"
   ]
  },
  {
   "cell_type": "code",
   "execution_count": 10,
   "id": "ebff2cb8-527b-4ab0-9162-b5da707fa0f8",
   "metadata": {},
   "outputs": [
    {
     "name": "stdin",
     "output_type": "stream",
     "text": [
      "Enter the side length of the square:  5\n"
     ]
    },
    {
     "name": "stdout",
     "output_type": "stream",
     "text": [
      "The area of the square with side length 25.0\n"
     ]
    }
   ],
   "source": [
    "#WAP of area of Square using python\n",
    "side= float(input(\"Enter the side length of the square: \"))\n",
    "area = side*side\n",
    "print(\"The area of the square with side length\",area)"
   ]
  },
  {
   "cell_type": "code",
   "execution_count": 12,
   "id": "7d193f97-014d-4555-b85f-b3b8a0e41dfd",
   "metadata": {},
   "outputs": [
    {
     "name": "stdin",
     "output_type": "stream",
     "text": [
      "Enter the base length of the triangle: 10\n",
      "Enter the height of the triangle:  5\n"
     ]
    },
    {
     "name": "stdout",
     "output_type": "stream",
     "text": [
      "The area of the triangle with base 10.0 and height 5.0 is: 10.0\n"
     ]
    }
   ],
   "source": [
    "#WAP of area of triangle using python\n",
    "base = float(input(\"Enter the base length of the triangle:\"))\n",
    "height = float(input(\"Enter the height of the triangle: \"))\n",
    "\n",
    "area = 1/5 * base * height\n",
    "\n",
    "print(\"The area of the triangle with base\", base, \"and height\", height, \"is:\", area)"
   ]
  },
  {
   "cell_type": "code",
   "execution_count": 33,
   "id": "4adbb691-6f6d-40b0-8a68-73d29a864181",
   "metadata": {},
   "outputs": [
    {
     "name": "stdin",
     "output_type": "stream",
     "text": [
      "Enter the length of the paralleogram: 5\n",
      "enter the breadh of the paralleogram: 5\n"
     ]
    },
    {
     "name": "stdout",
     "output_type": "stream",
     "text": [
      "area of paralleogram is: 25.0\n"
     ]
    }
   ],
   "source": [
    "#WAP of area of paralleogram using python\n",
    "a=float(input(\"Enter the length of the paralleogram:\"))\n",
    "b=float(input(\"enter the breadh of the paralleogram:\"))\n",
    "result=a*b\n",
    "print(\"area of paralleogram is:\",result)"
   ]
  },
  {
   "cell_type": "code",
   "execution_count": 37,
   "id": "57157bdd-4815-4a84-b0ac-b8a5ded4e9b0",
   "metadata": {},
   "outputs": [
    {
     "name": "stdin",
     "output_type": "stream",
     "text": [
      "Enter the length of the trapezium: 5\n",
      "enter the breadh of the trapezium: 5\n",
      "enter the height of the trapezium: 5\n"
     ]
    },
    {
     "name": "stdout",
     "output_type": "stream",
     "text": [
      "area of trapezium is: 25.0\n"
     ]
    }
   ],
   "source": [
    "#WAP of area of Trapezium using python\n",
    "a=float(input(\"Enter the length of the trapezium:\"))\n",
    "b=float(input(\"enter the breadh of the trapezium:\"))\n",
    "c=float(input(\"enter the height of the trapezium:\"))\n",
    "result=(a+b)/2*c\n",
    "print(\"area of trapezium is:\",result)"
   ]
  },
  {
   "cell_type": "code",
   "execution_count": 41,
   "id": "cf008937-8d0a-439a-b507-a42390f98a22",
   "metadata": {},
   "outputs": [
    {
     "name": "stdin",
     "output_type": "stream",
     "text": [
      "Enter the length of the Hexagon: 5\n"
     ]
    },
    {
     "name": "stdout",
     "output_type": "stream",
     "text": [
      "area of Hexagon is: 64.9519052838329\n"
     ]
    }
   ],
   "source": [
    "#WAP of area of Hexagon using python\n",
    "import math\n",
    "a=float(input(\"Enter the length of the Hexagon:\"))\n",
    "result=(3*math.sqrt(3)*(a*a))/ 2\n",
    "print(\"area of Hexagon is:\",result)"
   ]
  },
  {
   "cell_type": "code",
   "execution_count": 48,
   "id": "7360a726-9176-4d91-89a7-e10842ab665b",
   "metadata": {},
   "outputs": [
    {
     "name": "stdin",
     "output_type": "stream",
     "text": [
      "Enter the radius of the sphere: 5\n"
     ]
    },
    {
     "name": "stdout",
     "output_type": "stream",
     "text": [
      "area of Sphere is: 314.0\n"
     ]
    }
   ],
   "source": [
    "#WAP of area of Sphere using python\n",
    "a=int(input(\"Enter the radius of the sphere:\"))\n",
    "result=4*3.14*(a*a)\n",
    "print(\"area of Sphere is:\",result)"
   ]
  },
  {
   "cell_type": "code",
   "execution_count": 50,
   "id": "c5265bf8-34ea-4bb9-93a3-81e86df6f09c",
   "metadata": {},
   "outputs": [
    {
     "name": "stdin",
     "output_type": "stream",
     "text": [
      "Enter the D1 diagonal length : 5\n",
      "enter the D2 diagonal length : 5\n"
     ]
    },
    {
     "name": "stdout",
     "output_type": "stream",
     "text": [
      "area of rhombus is: 12.5\n"
     ]
    }
   ],
   "source": [
    "#WAP of area of Rhombus (diamond) using python\n",
    "a=float(input(\"Enter the D1 diagonal length :\"))\n",
    "b=float(input(\"enter the D2 diagonal length :\"))\n",
    "result=a*b/2\n",
    "print(\"area of rhombus is:\",result)"
   ]
  },
  {
   "cell_type": "code",
   "execution_count": 59,
   "id": "5424ae66-8a55-438a-b9ec-fb3d9ebf011b",
   "metadata": {},
   "outputs": [
    {
     "name": "stdin",
     "output_type": "stream",
     "text": [
      "Enter the Radius : 5\n",
      "enter the Height: 5\n"
     ]
    },
    {
     "name": "stdout",
     "output_type": "stream",
     "text": [
      "area of Cylinder is: 314.0\n"
     ]
    }
   ],
   "source": [
    "#WAP of area of Cylinder using python\n",
    "#2πrh+2πr2\n",
    "a=float(input(\"Enter the Radius :\"))\n",
    "b=float(input(\"enter the Height:\"))\n",
    "result=(2*3.14)*a*b+2*3.14*(a*a)\n",
    "print(\"area of Cylinder is:\",result)\n"
   ]
  }
 ],
 "metadata": {
  "kernelspec": {
   "display_name": "Python 3 (ipykernel)",
   "language": "python",
   "name": "python3"
  },
  "language_info": {
   "codemirror_mode": {
    "name": "ipython",
    "version": 3
   },
   "file_extension": ".py",
   "mimetype": "text/x-python",
   "name": "python",
   "nbconvert_exporter": "python",
   "pygments_lexer": "ipython3",
   "version": "3.12.4"
  }
 },
 "nbformat": 4,
 "nbformat_minor": 5
}
